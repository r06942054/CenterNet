{
 "nbformat": 4,
 "nbformat_minor": 2,
 "metadata": {
  "language_info": {
   "name": "python",
   "codemirror_mode": {
    "name": "ipython",
    "version": 3
   },
   "version": "3.6.10-final"
  },
  "orig_nbformat": 2,
  "file_extension": ".py",
  "mimetype": "text/x-python",
  "name": "python",
  "npconvert_exporter": "python",
  "pygments_lexer": "ipython3",
  "version": 3,
  "kernelspec": {
   "name": "python361064bitf26cb2b0b83e40239d9cd18c718317ae",
   "display_name": "Python 3.6.10 64-bit"
  }
 },
 "cells": [
  {
   "cell_type": "code",
   "execution_count": 21,
   "metadata": {},
   "outputs": [],
   "source": [
    "import tensorflow as tf"
   ]
  },
  {
   "cell_type": "code",
   "execution_count": null,
   "metadata": {},
   "outputs": [],
   "source": [
    "tfrecords_filename = '/home/omnieyes/Model/O_030_000_ssd_mobilenet_v1_focal_loss/result_test.record'\n",
    ""
   ]
  },
  {
   "cell_type": "code",
   "execution_count": null,
   "metadata": {},
   "outputs": [],
   "source": [
    "'/home/omnieyes/renjie/GitHub/CenterNet/exp/ctdet/omnieyes_res_18/results.json'"
   ]
  },
  {
   "cell_type": "code",
   "execution_count": null,
   "metadata": {
    "tags": [
     "outputPrepend",
     "outputPrepend",
     "outputPrepend",
     "outputPrepend",
     "outputPrepend",
     "outputPrepend",
     "outputPrepend",
     "outputPrepend",
     "outputPrepend",
     "outputPrepend",
     "outputPrepend",
     "outputPrepend",
     "outputPrepend",
     "outputPrepend",
     "outputPrepend",
     "outputPrepend",
     "outputPrepend",
     "outputPrepend",
     "outputPrepend",
     "outputPrepend",
     "outputPrepend",
     "outputPrepend",
     "outputPrepend"
    ]
   },
   "outputs": [],
   "source": [
    "record_iterator = tf.python_io.tf_record_iterator(path=tfrecords_filename)\n",
    "for string_record in record_iterator:\n",
    "    print(string_record)\n",
    "\n",
    "    # 建立 Example\n",
    "    example = tf.train.Example()\n",
    "\n",
    "    # 解析來自於 TFRecords 檔案的資料\n",
    "    example.ParseFromString(string_record)\n",
    "\n",
    "    print(example.features)"
   ]
  },
  {
   "cell_type": "code",
   "execution_count": null,
   "metadata": {},
   "outputs": [],
   "source": [
    "key_list = []\n",
    "for key, value in example.features.feature.items():\n",
    "    print(key)\n",
    "    key_list.append(key)"
   ]
  },
  {
   "cell_type": "code",
   "execution_count": null,
   "metadata": {},
   "outputs": [],
   "source": [
    "sorted(key_list)"
   ]
  },
  {
   "cell_type": "code",
   "execution_count": null,
   "metadata": {},
   "outputs": [],
   "source": [
    "example.features.feature['image/filename']"
   ]
  },
  {
   "cell_type": "code",
   "execution_count": null,
   "metadata": {},
   "outputs": [],
   "source": [
    "example.features.feature['image/format']"
   ]
  },
  {
   "cell_type": "code",
   "execution_count": null,
   "metadata": {},
   "outputs": [],
   "source": [
    "example.features.feature['image/height']"
   ]
  },
  {
   "cell_type": "code",
   "execution_count": null,
   "metadata": {},
   "outputs": [],
   "source": [
    "example.features.feature['image/width']"
   ]
  },
  {
   "cell_type": "code",
   "execution_count": null,
   "metadata": {},
   "outputs": [],
   "source": [
    "example.features.feature['image/source_id']"
   ]
  },
  {
   "cell_type": "code",
   "execution_count": null,
   "metadata": {},
   "outputs": [],
   "source": [
    "example.features.feature['image/detection/bbox/xmax']"
   ]
  },
  {
   "cell_type": "code",
   "execution_count": null,
   "metadata": {},
   "outputs": [],
   "source": [
    "example.features.feature['image/detection/label']"
   ]
  },
  {
   "cell_type": "code",
   "execution_count": null,
   "metadata": {},
   "outputs": [],
   "source": [
    "example.features.feature['image/detection/score']"
   ]
  },
  {
   "cell_type": "code",
   "execution_count": null,
   "metadata": {},
   "outputs": [],
   "source": [
    "example.features.feature['image/object/class/label']"
   ]
  },
  {
   "cell_type": "code",
   "execution_count": null,
   "metadata": {},
   "outputs": [],
   "source": [
    "example.features.feature['image/object/bbox/xmax']"
   ]
  },
  {
   "cell_type": "code",
   "execution_count": null,
   "metadata": {},
   "outputs": [],
   "source": [
    "example.features.feature['image/object/weight']"
   ]
  },
  {
   "cell_type": "code",
   "execution_count": null,
   "metadata": {},
   "outputs": [],
   "source": []
  },
  {
   "cell_type": "code",
   "execution_count": null,
   "metadata": {},
   "outputs": [],
   "source": []
  },
  {
   "cell_type": "code",
   "execution_count": 1,
   "metadata": {},
   "outputs": [],
   "source": [
    "import tensorflow as tf\n",
    "import json\n",
    "import numpy as np\n",
    "\n",
    "from object_detection.core.standard_fields import TfExampleFields\n",
    "import sys\n",
    "sys.path.append(\"/home/omnieyes/renjie/OmniEyes_forOD/OmniEyes/\")\n",
    "from data_post_processing.util import util"
   ]
  },
  {
   "cell_type": "code",
   "execution_count": 2,
   "metadata": {},
   "outputs": [],
   "source": [
    "gt_json_path = \"/home/omnieyes/renjie/GitHub/CenterNet/data/omnieyes/annotations/omnieyes_test.json\"\n",
    "# result_json_path = \"/home/omnieyes/renjie/GitHub/CenterNet/exp/ctdet/omnieyes_res_18/results.json\"\n",
    "# output_path = \"/home/omnieyes/renjie/GitHub/CenterNet/exp/ctdet/omnieyes_res_18/results_test.record\"\n",
    "result_json_path = \"/home/omnieyes/renjie/GitHub/CenterNet/exp/ctdet/omnieyes_dla/results.json\"\n",
    "output_path = \"/home/omnieyes/renjie/GitHub/CenterNet/exp/ctdet/omnieyes_dla/results_test.record\""
   ]
  },
  {
   "cell_type": "code",
   "execution_count": 3,
   "metadata": {},
   "outputs": [],
   "source": [
    "with open(gt_json_path, 'r') as f:\n",
    "    gt_json = json.load(f)\n",
    "with open(result_json_path, 'r') as f:\n",
    "    result_list = json.load(f)\n",
    ""
   ]
  },
  {
   "cell_type": "code",
   "execution_count": 4,
   "metadata": {},
   "outputs": [],
   "source": [
    "categories_dict = {}\n",
    "for d in gt_json['categories']:\n",
    "    categories_dict[d['id']] = d['name']\n",
    "\n",
    "\n",
    "record_dict = {}\n",
    "for d in gt_json['images']:\n",
    "    image_dict = {}\n",
    "    image_dict['filename'] = d['file_name']\n",
    "    image_dict['width'] = d['width']\n",
    "    image_dict['height'] = d['height']\n",
    "    image_dict['detection_box'] = []\n",
    "    image_dict['detection_score'] = []\n",
    "    image_dict['detection_label'] = []\n",
    "    image_dict['object_label'] = []\n",
    "    image_dict['object_text'] = []\n",
    "    image_dict['object_box'] = []\n",
    "    record_dict[d['id']] = image_dict\n",
    "\n",
    "\n",
    "for d in gt_json['annotations']:\n",
    "    record_dict[d['image_id']]['object_label'].append(d['category_id'])\n",
    "    record_dict[d['image_id']]['object_text'].append(categories_dict[d['category_id']].encode('utf-8'))\n",
    "\n",
    "    bbox = d['bbox']\n",
    "    xmin = bbox[0] / record_dict[d['image_id']]['width']\n",
    "    ymin = bbox[1] / record_dict[d['image_id']]['height']\n",
    "    xmax = (bbox[0] + bbox[2]) / record_dict[d['image_id']]['width']\n",
    "    ymax = (bbox[1] + bbox[3]) / record_dict[d['image_id']]['height']\n",
    "    record_dict[d['image_id']]['object_box'].append([xmin, ymin, xmax, ymax])\n",
    "\n",
    "\n",
    "for d in result_list:\n",
    "    record_dict[d['image_id']]['detection_score'].append(d['score'])\n",
    "    record_dict[d['image_id']]['detection_label'].append(d['category_id'])\n",
    "\n",
    "    bbox = d['bbox']\n",
    "    xmin = bbox[0] / record_dict[d['image_id']]['width']\n",
    "    ymin = bbox[1] / record_dict[d['image_id']]['height']\n",
    "    xmax = (bbox[0] + bbox[2]) / record_dict[d['image_id']]['width']\n",
    "    ymax = (bbox[1] + bbox[3]) / record_dict[d['image_id']]['height']\n",
    "    \n",
    "    record_dict[d['image_id']]['detection_box'].append([xmin, ymin, xmax, ymax])\n",
    "\n",
    "\n",
    "for key in record_dict.keys():\n",
    "    sort_index = np.argsort(record_dict[key]['detection_score'])[::-1]\n",
    "    record_dict[key]['detection_score'] = np.array(record_dict[key]['detection_score'])[sort_index]\n",
    "    record_dict[key]['detection_label'] = np.array(record_dict[key]['detection_label'])[sort_index]\n",
    "    record_dict[key]['detection_box'] = np.array(record_dict[key]['detection_box'])[sort_index]\n",
    "    record_dict[key]['object_box'] = np.array(record_dict[key]['object_box'])"
   ]
  },
  {
   "cell_type": "code",
   "execution_count": 5,
   "metadata": {},
   "outputs": [],
   "source": [
    "def _int64_feature(value):\n",
    "    return tf.train.Feature(int64_list=tf.train.Int64List(value=[value]))\n",
    "\n",
    "def _int64_list_feature(value):\n",
    "    return tf.train.Feature(int64_list=tf.train.Int64List(value=value))\n",
    "\n",
    "def _bytes_feature(value):\n",
    "    return tf.train.Feature(bytes_list=tf.train.BytesList(value=[value]))\n",
    "\n",
    "def _bytes_list_feature(value):\n",
    "    return tf.train.Feature(bytes_list=tf.train.BytesList(value=value))\n",
    "\n",
    "def _float_list_feature(value):\n",
    "    return tf.train.Feature(float_list=tf.train.FloatList(value=value))"
   ]
  },
  {
   "cell_type": "code",
   "execution_count": 6,
   "metadata": {
    "tags": [
     "outputPrepend",
     "outputPrepend",
     "outputPrepend",
     "outputPrepend",
     "outputPrepend",
     "outputPrepend",
     "outputPrepend",
     "outputPrepend",
     "outputPrepend",
     "outputPrepend",
     "outputPrepend",
     "outputPrepend",
     "outputPrepend",
     "outputPrepend",
     "outputPrepend",
     "outputPrepend",
     "outputPrepend",
     "outputPrepend",
     "outputPrepend",
     "outputPrepend",
     "outputPrepend",
     "outputPrepend",
     "outputPrepend",
     "outputPrepend",
     "outputPrepend",
     "outputPrepend",
     "outputPrepend",
     "outputPrepend",
     "outputPrepend",
     "outputPrepend",
     "outputPrepend",
     "outputPrepend",
     "outputPrepend",
     "outputPrepend",
     "outputPrepend",
     "outputPrepend",
     "outputPrepend",
     "outputPrepend",
     "outputPrepend",
     "outputPrepend",
     "outputPrepend",
     "outputPrepend",
     "outputPrepend"
    ]
   },
   "outputs": [],
   "source": [
    "# writer TODO: better naming\n",
    "writer = tf.python_io.TFRecordWriter(output_path)\n",
    "key = 1\n",
    "empty_count = 0\n",
    "for key in record_dict.keys():\n",
    "    # print(record_dict[key]['detection_box'])\n",
    "    if len(record_dict[key]['detection_box'])==0: \n",
    "        empty_count += 1\n",
    "        continue\n",
    "    tf_example = tf.train.Example(features=tf.train.Features(feature={\n",
    "        TfExampleFields.height: _int64_feature(record_dict[key]['height']),\n",
    "        TfExampleFields.width: _int64_feature(record_dict[key]['width']),\n",
    "        TfExampleFields.filename: _bytes_feature(record_dict[key]['filename'].encode('utf-8')),\n",
    "        TfExampleFields.source_id: _bytes_feature(record_dict[key]['filename'].encode('utf-8')),\n",
    "        TfExampleFields.image_format: _bytes_feature('jpg'.encode('utf-8')),\n",
    "        TfExampleFields.object_bbox_xmin: _float_list_feature(record_dict[key]['object_box'][: ,0]),\n",
    "        TfExampleFields.object_bbox_xmax: _float_list_feature(record_dict[key]['object_box'][: ,2]),\n",
    "        TfExampleFields.object_bbox_ymin: _float_list_feature(record_dict[key]['object_box'][: ,1]),\n",
    "        TfExampleFields.object_bbox_ymax: _float_list_feature(record_dict[key]['object_box'][: ,3]),\n",
    "        TfExampleFields.object_class_text: _bytes_list_feature(record_dict[key]['object_text']),\n",
    "        TfExampleFields.object_class_label: _int64_list_feature(record_dict[key]['object_label']),\n",
    "        TfExampleFields.detection_bbox_xmin: _float_list_feature(record_dict[key]['detection_box'][: ,0]),\n",
    "        TfExampleFields.detection_bbox_xmax: _float_list_feature(record_dict[key]['detection_box'][: ,2]),\n",
    "        TfExampleFields.detection_bbox_ymin: _float_list_feature(record_dict[key]['detection_box'][: ,1]),\n",
    "        TfExampleFields.detection_bbox_ymax: _float_list_feature(record_dict[key]['detection_box'][: ,3]),\n",
    "        TfExampleFields.detection_class_label: _int64_list_feature(record_dict[key]['detection_label']),\n",
    "        TfExampleFields.detection_score: _float_list_feature(record_dict[key]['detection_score']),\n",
    "    }))\n",
    "\n",
    "    writer.write(tf_example.SerializeToString())\n",
    "\n",
    "writer.close()"
   ]
  },
  {
   "cell_type": "code",
   "execution_count": null,
   "metadata": {},
   "outputs": [],
   "source": []
  }
 ]
}